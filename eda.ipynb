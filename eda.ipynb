{
 "cells": [
  {
   "cell_type": "markdown",
   "metadata": {},
   "source": [
    "# EDA"
   ]
  },
  {
   "cell_type": "code",
   "execution_count": 1,
   "metadata": {},
   "outputs": [],
   "source": [
    "import pandas as pd\n",
    "df=pd.read_json(\"data/tinyTwitter.json\")"
   ]
  },
  {
   "cell_type": "code",
   "execution_count": 2,
   "metadata": {},
   "outputs": [
    {
     "data": {
      "text/html": [
       "<div>\n",
       "<style scoped>\n",
       "    .dataframe tbody tr th:only-of-type {\n",
       "        vertical-align: middle;\n",
       "    }\n",
       "\n",
       "    .dataframe tbody tr th {\n",
       "        vertical-align: top;\n",
       "    }\n",
       "\n",
       "    .dataframe thead th {\n",
       "        text-align: right;\n",
       "    }\n",
       "</style>\n",
       "<table border=\"1\" class=\"dataframe\">\n",
       "  <thead>\n",
       "    <tr style=\"text-align: right;\">\n",
       "      <th></th>\n",
       "      <th>offset</th>\n",
       "      <th>rows</th>\n",
       "      <th>total_rows</th>\n",
       "    </tr>\n",
       "  </thead>\n",
       "  <tbody>\n",
       "    <tr>\n",
       "      <th>0</th>\n",
       "      <td>805584</td>\n",
       "      <td>{'key': ['r1r01cdn8nb4', 2015, 2, 25], 'doc': ...</td>\n",
       "      <td>3877777</td>\n",
       "    </tr>\n",
       "    <tr>\n",
       "      <th>1</th>\n",
       "      <td>805584</td>\n",
       "      <td>{'key': ['r1r01cdn8nb4', 2015, 2, 25], 'doc': ...</td>\n",
       "      <td>3877777</td>\n",
       "    </tr>\n",
       "    <tr>\n",
       "      <th>2</th>\n",
       "      <td>805584</td>\n",
       "      <td>{'key': ['r1r01cdn8nb4', 2015, 2, 25], 'doc': ...</td>\n",
       "      <td>3877777</td>\n",
       "    </tr>\n",
       "    <tr>\n",
       "      <th>3</th>\n",
       "      <td>805584</td>\n",
       "      <td>{'key': ['r1r01cdn8nb4', 2015, 2, 25], 'doc': ...</td>\n",
       "      <td>3877777</td>\n",
       "    </tr>\n",
       "    <tr>\n",
       "      <th>4</th>\n",
       "      <td>805584</td>\n",
       "      <td>{'key': ['r1r01cdn8nb4', 2015, 2, 25], 'doc': ...</td>\n",
       "      <td>3877777</td>\n",
       "    </tr>\n",
       "  </tbody>\n",
       "</table>\n",
       "</div>"
      ],
      "text/plain": [
       "   offset                                               rows  total_rows\n",
       "0  805584  {'key': ['r1r01cdn8nb4', 2015, 2, 25], 'doc': ...     3877777\n",
       "1  805584  {'key': ['r1r01cdn8nb4', 2015, 2, 25], 'doc': ...     3877777\n",
       "2  805584  {'key': ['r1r01cdn8nb4', 2015, 2, 25], 'doc': ...     3877777\n",
       "3  805584  {'key': ['r1r01cdn8nb4', 2015, 2, 25], 'doc': ...     3877777\n",
       "4  805584  {'key': ['r1r01cdn8nb4', 2015, 2, 25], 'doc': ...     3877777"
      ]
     },
     "execution_count": 2,
     "metadata": {},
     "output_type": "execute_result"
    }
   ],
   "source": [
    "df.head()\n"
   ]
  },
  {
   "cell_type": "code",
   "execution_count": null,
   "metadata": {},
   "outputs": [],
   "source": []
  }
 ],
 "metadata": {
  "kernelspec": {
   "display_name": "Python [conda env:anaconda]",
   "language": "python",
   "name": "conda-env-anaconda-py"
  },
  "language_info": {
   "codemirror_mode": {
    "name": "ipython",
    "version": 3
   },
   "file_extension": ".py",
   "mimetype": "text/x-python",
   "name": "python",
   "nbconvert_exporter": "python",
   "pygments_lexer": "ipython3",
   "version": "3.5.5"
  }
 },
 "nbformat": 4,
 "nbformat_minor": 2
}
